{
 "cells": [
  {
   "cell_type": "code",
   "execution_count": null,
   "metadata": {
    "id": "Yj4f9Ru_A--m"
   },
   "outputs": [],
   "source": [
    "# Make a data directory inside the current directory\n",
    "import os\n",
    "os.makedirs(\"./data\", exist_ok=True)"
   ]
  },
  {
   "cell_type": "code",
   "execution_count": null,
   "metadata": {
    "id": "anT4aM4ZBBJc"
   },
   "outputs": [],
   "source": [
    "# Download the dataset\n",
    "!kaggle datasets download -d kritikseth/fruit-and-vegetable-image-recognition"
   ]
  },
  {
   "cell_type": "code",
   "execution_count": null,
   "metadata": {
    "id": "2IRvix38BDPq"
   },
   "outputs": [],
   "source": [
    "# Unzip the folder\n",
    "!unzip fruit-and-vegetable-image-recognition.zip -d ./data/"
   ]
  },
  {
   "cell_type": "code",
   "execution_count": null,
   "metadata": {
    "colab": {
     "base_uri": "https://localhost:8080/"
    },
    "id": "KMBmLLHS8w0A",
    "outputId": "1a1ab2b8-8c2c-440a-a928-f2f35d55d338"
   },
   "outputs": [],
   "source": [
    "# Import Libraries\n",
    "import tensorflow as tf\n",
    "from tensorflow.keras.preprocessing.image import ImageDataGenerator\n",
    "from tensorflow.keras.applications import VGG16\n",
    "from tensorflow.keras.layers import Dense, GlobalAveragePooling2D, Dropout\n",
    "from tensorflow.keras.models import Model\n",
    "from tensorflow.keras.optimizers import Adam\n",
    "from tensorflow.keras.callbacks import EarlyStopping\n",
    "from tensorflow.keras.applications import VGG16\n",
    "from tensorflow.keras.layers import GlobalAveragePooling2D, Dense\n",
    "import pandas as pd\n",
    "from tensorflow.keras.models import load_model\n",
    "from tensorflow.keras.preprocessing import image\n",
    "import numpy as np\n",
    "import os\n",
    "\n",
    "# Paths to dataset directories\n",
    "base_dir = '/home/safwannazir911/Desktop/data'\n",
    "train_dir = os.path.join(base_dir, 'train')\n",
    "validation_dir = os.path.join(base_dir, 'validation')\n",
    "test_dir = os.path.join(base_dir, 'test')\n",
    "\n",
    "# Data augmentation for training data\n",
    "train_datagen = ImageDataGenerator(\n",
    "    rescale=1./255,\n",
    "    rotation_range=20,\n",
    "    width_shift_range=0.2,\n",
    "    height_shift_range=0.2,\n",
    "    shear_range=0.2,\n",
    "    zoom_range=0.2,\n",
    "    horizontal_flip=True,\n",
    "    fill_mode='nearest'\n",
    ")\n",
    "\n",
    "validation_datagen = ImageDataGenerator(rescale=1./255)\n",
    "test_datagen = ImageDataGenerator(rescale=1./255)\n",
    "\n",
    "# Generating batches of image data\n",
    "train_generator = train_datagen.flow_from_directory(\n",
    "    train_dir,\n",
    "    target_size=(224, 224),\n",
    "    batch_size=32,\n",
    "    class_mode='categorical'\n",
    ")\n",
    "\n",
    "validation_generator = validation_datagen.flow_from_directory(\n",
    "    validation_dir,\n",
    "    target_size=(224, 224),\n",
    "    batch_size=32,\n",
    "    class_mode='categorical'\n",
    ")\n",
    "\n",
    "test_generator = test_datagen.flow_from_directory(\n",
    "    test_dir,\n",
    "    target_size=(224, 224),\n",
    "    batch_size=32,\n",
    "    class_mode='categorical',\n",
    "    shuffle=False\n",
    ")\n"
   ]
  },
  {
   "cell_type": "code",
   "execution_count": null,
   "metadata": {
    "colab": {
     "base_uri": "https://localhost:8080/",
     "height": 901
    },
    "id": "Xiquidjq-pnE",
    "outputId": "864b3696-c601-4fc0-c871-953a8193ae75"
   },
   "outputs": [],
   "source": [
    "# Define the base model\n",
    "base_model = VGG16(weights='imagenet', include_top=False, input_shape=(224, 224, 3))\n",
    "\n",
    "# Freeze all layers in the base model\n",
    "for layer in base_model.layers:\n",
    "    layer.trainable = False\n",
    "\n",
    "# Add custom layers on top\n",
    "x = base_model.output\n",
    "x = GlobalAveragePooling2D()(x)\n",
    "x = Dense(1024, activation='relu')(x)\n",
    "predictions = Dense(train_generator.num_classes, activation='softmax')(x)\n",
    "\n",
    "# Create the final model\n",
    "model = Model(inputs=base_model.input, outputs=predictions)\n",
    "\n",
    "# Compile the model\n",
    "adam = Adam(learning_rate=0.001, beta_1=0.9, beta_2=0.999, epsilon=1e-07)\n",
    "model.compile(optimizer=adam, loss='categorical_crossentropy', metrics=['accuracy'])\n",
    "\n",
    "# Load the saved weights\n",
    "model.load_weights('/home/safwannazir911/Desktop/food_classification_model/model.weights.h5')\n",
    "\n",
    "# Model summary\n",
    "model.summary()\n"
   ]
  },
  {
   "cell_type": "code",
   "execution_count": null,
   "metadata": {},
   "outputs": [],
   "source": [
    "# Load the entire model \n",
    "model_path = '/home/safwannazir911/Desktop/food_classification_model'\n",
    "model = load_model(model_path)\n",
    "\n",
    "# Model summary\n",
    "model.summary()"
   ]
  },
  {
   "cell_type": "code",
   "execution_count": null,
   "metadata": {
    "colab": {
     "base_uri": "https://localhost:8080/"
    },
    "id": "k3-xXq2g-vKi",
    "outputId": "dc5ef898-ca2e-4035-dd6f-81161a85acd1"
   },
   "outputs": [],
   "source": [
    "# Early stopping to prevent overfitting\n",
    "early_stopping = EarlyStopping(monitor='val_loss', patience=3, restore_best_weights=True)\n",
    "\n",
    "# Training the model\n",
    "history = model.fit(\n",
    "    train_generator,\n",
    "    epochs=1,\n",
    "    validation_data=validation_generator,\n",
    "    callbacks=[early_stopping]\n",
    ")\n"
   ]
  },
  {
   "cell_type": "code",
   "execution_count": null,
   "metadata": {
    "id": "TjnGQV336M5O"
   },
   "outputs": [],
   "source": [
    "# Evaluate the model\n",
    "eval_results = model.evaluate(test_generator, verbose=1)\n",
    "\n",
    "# Print the results\n",
    "print(f\"Test Loss: {eval_results[0]}\")\n",
    "print(f\"Test Accuracy: {eval_results[1] * 100:.2f}%\")\n"
   ]
  },
  {
   "cell_type": "code",
   "execution_count": null,
   "metadata": {
    "id": "edqeJNnQxsQH"
   },
   "outputs": [],
   "source": [
    "#Save the model\n",
    "model.save('food_classification_model.keras')\n",
    "\n",
    "# Save weights with the correct filename extension\n",
    "model.save_weights('food_classification_weights.weights.h5')\n"
   ]
  },
  {
   "cell_type": "code",
   "execution_count": 13,
   "metadata": {
    "id": "Apl_5NTos0xr"
   },
   "outputs": [],
   "source": [
    "# Updated calorie map with actual average values\n",
    "calorie_map = {\n",
    "    'Banana': 89,\n",
    "    'Apple': 52,\n",
    "    'Pear': 39,\n",
    "    'Grapes': 69,\n",
    "    'Orange': 47,\n",
    "    'Kiwi': 61,\n",
    "    'Watermelon': 30,\n",
    "    'Pomegranate': 83,\n",
    "    'Pineapple': 50,\n",
    "    'Mango': 60,\n",
    "    'Cucumber': 16,\n",
    "    'Carrot': 41,\n",
    "    'Capsicum': 20,\n",
    "    'Onion': 40,\n",
    "    'Potato': 77,\n",
    "    'Lemon': 29,\n",
    "    'Tomato': 18,\n",
    "    'Radish': 16,\n",
    "    'Beetroot': 43,\n",
    "    'Cabbage': 25,\n",
    "    'Lettuce': 15,\n",
    "    'Spinach': 23,\n",
    "    'Soybean': 446,\n",
    "    'Cauliflower': 25,\n",
    "    'Bell Pepper': 20,\n",
    "    'Chilli Pepper': 40,\n",
    "    'Turnip': 28,\n",
    "    'Corn': 96,\n",
    "    'Sweetcorn': 86,\n",
    "    'Sweet Potato': 86,\n",
    "    'Paprika': 282,\n",
    "    'Jalapeño': 29,\n",
    "    'Ginger': 80,\n",
    "    'Garlic': 149,\n",
    "    'Peas': 81,\n",
    "    'Eggplant': 25\n",
    "}\n",
    "\n",
    "# Load your CNN model\n",
    "cnn_model = load_model('/home/safwannazir911/Desktop/food_classification_model')\n",
    "\n",
    "def predict_food_class(img_path):\n",
    "    img = image.load_img(img_path, target_size=(224, 224))\n",
    "    img_array = image.img_to_array(img)\n",
    "    img_array = np.expand_dims(img_array, axis=0)\n",
    "    img_array /= 255.0\n",
    "\n",
    "    predictions = cnn_model.predict(img_array)\n",
    "    predicted_class_index = np.argmax(predictions, axis=1)[0]\n",
    "\n",
    "    class_labels = list(train_generator.class_indices.keys())\n",
    "    predicted_class = class_labels[predicted_class_index]\n",
    "\n",
    "    return predicted_class\n",
    "\n",
    "\n",
    "def estimate_calories(predicted_class):\n",
    "    # Convert predicted class to title case to match the format in calorie_map\n",
    "    predicted_class_title = predicted_class.title()\n",
    "\n",
    "    # Fetch the calories from the map\n",
    "    calories = calorie_map.get(predicted_class_title, None)\n",
    "\n",
    "    if calories is None:\n",
    "        return \"Unknown food class\"\n",
    "    return calories"
   ]
  },
  {
   "cell_type": "code",
   "execution_count": 14,
   "metadata": {
    "id": "XyrAlySl-Yzg"
   },
   "outputs": [
    {
     "name": "stdout",
     "output_type": "stream",
     "text": [
      "\u001b[1m1/1\u001b[0m \u001b[32m━━━━━━━━━━━━━━━━━━━━\u001b[0m\u001b[37m\u001b[0m \u001b[1m1s\u001b[0m 689ms/step\n",
      "Predicted Food Class: grapes\n",
      "Estimated Calories: 69\n"
     ]
    }
   ],
   "source": [
    "# Example usage\n",
    "img_path = '/home/safwannazir911/Desktop/grapes.jpg'\n",
    "predicted_class = predict_food_class(img_path)\n",
    "print(f\"Predicted Food Class: {predicted_class}\")\n",
    "\n",
    "estimated_calories = estimate_calories(predicted_class)\n",
    "print(f\"Estimated Calories: {estimated_calories}\")"
   ]
  }
 ],
 "metadata": {
  "colab": {
   "provenance": []
  },
  "kernelspec": {
   "display_name": "Python (myenv)",
   "language": "python",
   "name": "myenv"
  },
  "language_info": {
   "codemirror_mode": {
    "name": "ipython",
    "version": 3
   },
   "file_extension": ".py",
   "mimetype": "text/x-python",
   "name": "python",
   "nbconvert_exporter": "python",
   "pygments_lexer": "ipython3",
   "version": "3.12.3"
  }
 },
 "nbformat": 4,
 "nbformat_minor": 1
}
